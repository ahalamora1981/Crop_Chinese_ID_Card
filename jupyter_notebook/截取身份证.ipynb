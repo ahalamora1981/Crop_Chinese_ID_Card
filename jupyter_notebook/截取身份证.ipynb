{
 "cells": [
  {
   "cell_type": "code",
   "execution_count": 1,
   "id": "5eb5a2c1-7ba1-44e7-bb30-69582f2be81a",
   "metadata": {
    "ExecutionIndicator": {
     "show": true
    },
    "execution": {
     "iopub.execute_input": "2023-09-12T16:33:48.788914Z",
     "iopub.status.busy": "2023-09-12T16:33:48.788571Z",
     "iopub.status.idle": "2023-09-12T16:33:48.792424Z",
     "shell.execute_reply": "2023-09-12T16:33:48.791891Z",
     "shell.execute_reply.started": "2023-09-12T16:33:48.788896Z"
    },
    "tags": []
   },
   "outputs": [
    {
     "name": "stderr",
     "output_type": "stream",
     "text": [
      "2023-09-20 23:21:55,419 - modelscope - INFO - PyTorch version 1.13.1 Found.\n",
      "2023-09-20 23:21:55,428 - modelscope - INFO - TensorFlow version 2.12.0 Found.\n",
      "2023-09-20 23:21:55,431 - modelscope - INFO - Loading ast index from C:\\Users\\dell\\.cache\\modelscope\\ast_indexer\n",
      "2023-09-20 23:21:55,820 - modelscope - INFO - Loading done! Current index file version is 1.4.3, with md5 e60a1c20b05db33ef2a42122e80d597d and a total number of 842 components indexed\n",
      "Using TensorFlow backend.\n"
     ]
    }
   ],
   "source": [
    "import os\n",
    "import cv2\n",
    "import numpy as np\n",
    "import shutil\n",
    "import matplotlib.pyplot as plt\n",
    "\n",
    "from modelscope.pipelines import pipeline\n",
    "from modelscope.utils.constant import Tasks\n",
    "from modelscope.outputs import OutputKeys\n",
    "from modelscope.utils.cv.image_utils import draw_face_detection_result\n",
    "from modelscope.preprocessors.image import LoadImage\n",
    "\n",
    "from docx import Document\n",
    "from docx.shared import Inches\n",
    "from docx.enum.text import WD_ALIGN_PARAGRAPH"
   ]
  },
  {
   "cell_type": "code",
   "execution_count": 2,
   "id": "8aa55b41-e314-4ab2-90a7-f2626ecb789f",
   "metadata": {
    "ExecutionIndicator": {
     "show": true
    },
    "execution": {
     "iopub.execute_input": "2023-09-12T15:14:51.158772Z",
     "iopub.status.busy": "2023-09-12T15:14:51.158162Z",
     "iopub.status.idle": "2023-09-12T15:14:51.162346Z",
     "shell.execute_reply": "2023-09-12T15:14:51.161868Z",
     "shell.execute_reply.started": "2023-09-12T15:14:51.158748Z"
    },
    "tags": []
   },
   "outputs": [],
   "source": [
    "def get_mask(img_path):\n",
    "    result = salient_detect(img_path)\n",
    "    cv2.imwrite('./temp/mask.jpg',result[OutputKeys.MASKS])\n",
    "    \n",
    "    # 读取掩码图像，确保它与原始图像具有相同的尺寸\n",
    "    mask_image = cv2.imread('./temp/mask.jpg', cv2.IMREAD_GRAYSCALE)\n",
    "    mask_image = cv2.GaussianBlur(mask_image, (5, 5), 0)\n",
    "    \n",
    "    return mask_image"
   ]
  },
  {
   "cell_type": "code",
   "execution_count": 3,
   "id": "021ef59e-528d-4e51-a787-70059b18e0ca",
   "metadata": {
    "ExecutionIndicator": {
     "show": true
    },
    "execution": {
     "iopub.execute_input": "2023-09-12T15:14:52.067555Z",
     "iopub.status.busy": "2023-09-12T15:14:52.067091Z",
     "iopub.status.idle": "2023-09-12T15:14:52.070930Z",
     "shell.execute_reply": "2023-09-12T15:14:52.070425Z",
     "shell.execute_reply.started": "2023-09-12T15:14:52.067538Z"
    },
    "tags": []
   },
   "outputs": [],
   "source": [
    "def get_black_bg_image(img, mask_img):\n",
    "    original_image = img\n",
    "    output_image = np.zeros_like(original_image)\n",
    "    \n",
    "    # 遍历原始图像的每个像素\n",
    "    for y in range(original_image.shape[0]):\n",
    "        for x in range(original_image.shape[1]):\n",
    "            # 检查掩码图像中的对应位置是否非零\n",
    "            if mask_img[y, x] != 0:\n",
    "                # 如果掩码非零，将原始图像中的像素复制到输出图像中\n",
    "                output_image[y, x] = original_image[y, x]\n",
    "    \n",
    "    return output_image"
   ]
  },
  {
   "cell_type": "code",
   "execution_count": 4,
   "id": "2625d648-bd33-4d2c-8325-3b72d1d8cbbe",
   "metadata": {
    "ExecutionIndicator": {
     "show": true
    },
    "execution": {
     "iopub.execute_input": "2023-09-12T15:14:52.824027Z",
     "iopub.status.busy": "2023-09-12T15:14:52.823615Z",
     "iopub.status.idle": "2023-09-12T15:14:52.828316Z",
     "shell.execute_reply": "2023-09-12T15:14:52.827824Z",
     "shell.execute_reply.started": "2023-09-12T15:14:52.824011Z"
    },
    "tags": []
   },
   "outputs": [],
   "source": [
    "def get_card_range(image):  # 传入掩码图片\n",
    "    \n",
    "    # 转换为灰度图像\n",
    "    gray = cv2.cvtColor(image, cv2.COLOR_BGR2GRAY)\n",
    "\n",
    "    # 创建二值化图像，将非黑色像素设置为白色\n",
    "    _, binary = cv2.threshold(gray, 1, 255, cv2.THRESH_BINARY)\n",
    "\n",
    "    # 查找非黑色区域的轮廓\n",
    "    contours, _ = cv2.findContours(binary, cv2.RETR_EXTERNAL, cv2.CHAIN_APPROX_SIMPLE)\n",
    "\n",
    "    if contours:\n",
    "        # 找到最上、最下、最左和最右的点\n",
    "        largest_contour = max(contours, key=cv2.contourArea)\n",
    "        leftmost = tuple(largest_contour[largest_contour[:, :, 0].argmin()][0])\n",
    "        rightmost = tuple(largest_contour[largest_contour[:, :, 0].argmax()][0])\n",
    "        topmost = tuple(largest_contour[largest_contour[:, :, 1].argmin()][0])\n",
    "        bottommost = tuple(largest_contour[largest_contour[:, :, 1].argmax()][0])\n",
    "    \n",
    "    return {'left':leftmost, 'right':rightmost, 'top':topmost, 'bottom':bottommost}"
   ]
  },
  {
   "cell_type": "code",
   "execution_count": 5,
   "id": "ecd873e0-d263-4ad6-8c38-0b50bef96b92",
   "metadata": {
    "ExecutionIndicator": {
     "show": true
    },
    "execution": {
     "iopub.execute_input": "2023-09-12T15:16:30.954908Z",
     "iopub.status.busy": "2023-09-12T15:16:30.954534Z",
     "iopub.status.idle": "2023-09-12T15:16:30.959530Z",
     "shell.execute_reply": "2023-09-12T15:16:30.958999Z",
     "shell.execute_reply.started": "2023-09-12T15:16:30.954889Z"
    },
    "tags": []
   },
   "outputs": [],
   "source": [
    "def range_is_card(image, card_range):\n",
    "    height, width = image.shape[:2]\n",
    "    \n",
    "    area_img = height * width\n",
    "    area_card_range = (card_range['right'][0] - card_range['left'][0]) * (card_range['bottom'][1] - card_range['top'][1])\n",
    "    \n",
    "    ratio = area_card_range / area_img\n",
    "    \n",
    "    # print(f'Area_img: {area_img}\\nArea_card_range: {area_card_range}\\nRatio: {(area_card_range/area_img):.2f}')\n",
    "    \n",
    "    if card_range['left'][0] >= width/2 or card_range['right'][0] <= width/2:\n",
    "        range_x_outside = True\n",
    "    else:\n",
    "        range_x_outside = False\n",
    "        \n",
    "    if card_range['top'][1] >= height/2 or card_range['bottom'][1] <= height/2:\n",
    "        range_y_outside = True\n",
    "    else:\n",
    "        range_y_outside = False\n",
    "    \n",
    "    # 用面积比小于0.25来判断轮廓是头像，而不是偏一侧的身份证\n",
    "    if (range_x_outside or range_y_outside) and ratio < 0.25:\n",
    "        return False\n",
    "    else:\n",
    "        return True"
   ]
  },
  {
   "cell_type": "code",
   "execution_count": 6,
   "id": "d0bf6863-bdc2-4936-9471-b1d36bc9099a",
   "metadata": {
    "ExecutionIndicator": {
     "show": true
    },
    "execution": {
     "iopub.execute_input": "2023-09-12T15:14:55.133431Z",
     "iopub.status.busy": "2023-09-12T15:14:55.132967Z",
     "iopub.status.idle": "2023-09-12T15:14:55.136902Z",
     "shell.execute_reply": "2023-09-12T15:14:55.136391Z",
     "shell.execute_reply.started": "2023-09-12T15:14:55.133413Z"
    },
    "tags": []
   },
   "outputs": [],
   "source": [
    "def get_cropped_image(image, card_range): # image 为白底图片, img_range 为左右上下四个点的字典\n",
    "    \n",
    "    leftmost = card_range['left']\n",
    "    rightmost = card_range['right']\n",
    "    topmost = card_range['top']\n",
    "    bottommost = card_range['bottom']\n",
    "\n",
    "    # 计算截取区域的坐标\n",
    "    x, y, w, h = leftmost[0], topmost[1], rightmost[0] - leftmost[0], bottommost[1] - topmost[1]\n",
    "\n",
    "    # 截取图像\n",
    "    cropped_image = image[y:y+h, x:x+w]\n",
    "\n",
    "    return cropped_image\n",
    "    "
   ]
  },
  {
   "cell_type": "code",
   "execution_count": 7,
   "id": "fb3c6f57-d3f8-4bd5-b417-f7fadc90f29f",
   "metadata": {
    "ExecutionIndicator": {
     "show": true
    },
    "execution": {
     "iopub.execute_input": "2023-09-12T15:14:56.882506Z",
     "iopub.status.busy": "2023-09-12T15:14:56.882011Z",
     "iopub.status.idle": "2023-09-12T15:14:56.885455Z",
     "shell.execute_reply": "2023-09-12T15:14:56.884965Z",
     "shell.execute_reply.started": "2023-09-12T15:14:56.882464Z"
    },
    "tags": []
   },
   "outputs": [],
   "source": [
    "def get_rotate_image_90(image):\n",
    "    # 获取图像的高度和宽度\n",
    "    height, width = image.shape[:2]\n",
    "\n",
    "    # 如果高度大于宽度，进行逆时针旋转90度\n",
    "    if height > width:\n",
    "        image = cv2.rotate(image, cv2.ROTATE_90_COUNTERCLOCKWISE)\n",
    "        \n",
    "    return image"
   ]
  },
  {
   "cell_type": "code",
   "execution_count": 8,
   "id": "b78b6b31-504f-4552-91c9-2a7803676ce3",
   "metadata": {
    "execution": {
     "iopub.execute_input": "2023-09-12T15:14:59.025006Z",
     "iopub.status.busy": "2023-09-12T15:14:59.024387Z",
     "iopub.status.idle": "2023-09-12T15:14:59.027626Z",
     "shell.execute_reply": "2023-09-12T15:14:59.027122Z",
     "shell.execute_reply.started": "2023-09-12T15:14:59.024989Z"
    },
    "tags": []
   },
   "outputs": [],
   "source": [
    "def get_rotate_image_180(image):\n",
    "    image = cv2.rotate(image, cv2.ROTATE_180)\n",
    "        \n",
    "    return image"
   ]
  },
  {
   "cell_type": "code",
   "execution_count": 9,
   "id": "24467dd8-f3af-44cc-b1e6-a9df08a80e5c",
   "metadata": {
    "execution": {
     "iopub.execute_input": "2023-09-12T15:15:00.637237Z",
     "iopub.status.busy": "2023-09-12T15:15:00.636791Z",
     "iopub.status.idle": "2023-09-12T15:15:00.640654Z",
     "shell.execute_reply": "2023-09-12T15:15:00.640156Z",
     "shell.execute_reply.started": "2023-09-12T15:15:00.637213Z"
    }
   },
   "outputs": [],
   "source": [
    "def back_is_upside_down(image):\n",
    "    height, width = image.shape[:2]\n",
    "    \n",
    "    # 分割图片为左右两个半区\n",
    "    left_half = image[:, :width // 2]\n",
    "    right_half = image[:, width // 2:]\n",
    "\n",
    "    # 计算左右两个半区的红色像素数量\n",
    "    red_pixels_left = count_red_pixels(left_half)\n",
    "    red_pixels_right = count_red_pixels(right_half)\n",
    "\n",
    "    # 比较红色像素数量并输出结果\n",
    "    if red_pixels_left < red_pixels_right:\n",
    "        return True\n",
    "    else:\n",
    "        return False"
   ]
  },
  {
   "cell_type": "code",
   "execution_count": 10,
   "id": "2df46cb7-88cd-4e57-8358-8c5769338163",
   "metadata": {
    "execution": {
     "iopub.execute_input": "2023-09-12T15:15:03.028591Z",
     "iopub.status.busy": "2023-09-12T15:15:03.028099Z",
     "iopub.status.idle": "2023-09-12T15:15:03.031864Z",
     "shell.execute_reply": "2023-09-12T15:15:03.031352Z",
     "shell.execute_reply.started": "2023-09-12T15:15:03.028572Z"
    },
    "tags": []
   },
   "outputs": [],
   "source": [
    "# 定义一个函数来计算红色像素的数量\n",
    "def count_red_pixels(image):\n",
    "    # 在HSV颜色空间中定义红色范围\n",
    "    lower_red = np.array([0, 100, 100])\n",
    "    upper_red = np.array([10, 255, 255])\n",
    "\n",
    "    # 转换图片到HSV颜色空间\n",
    "    hsv = cv2.cvtColor(image, cv2.COLOR_BGR2HSV)\n",
    "\n",
    "    # 使用掩码来获取红色像素\n",
    "    mask = cv2.inRange(hsv, lower_red, upper_red)\n",
    "    red_pixels = cv2.countNonZero(mask)\n",
    "\n",
    "    return red_pixels"
   ]
  },
  {
   "cell_type": "code",
   "execution_count": 11,
   "id": "cd34d350-5201-4b82-8e85-aa1aef83ac7a",
   "metadata": {
    "ExecutionIndicator": {
     "show": true
    },
    "execution": {
     "iopub.execute_input": "2023-09-12T15:52:51.277564Z",
     "iopub.status.busy": "2023-09-12T15:52:51.277201Z",
     "iopub.status.idle": "2023-09-12T15:52:51.280916Z",
     "shell.execute_reply": "2023-09-12T15:52:51.280379Z",
     "shell.execute_reply.started": "2023-09-12T15:52:51.277545Z"
    },
    "tags": []
   },
   "outputs": [],
   "source": [
    "def get_resized_image(image):\n",
    "    # 获取原始图像的高度、宽度和通道数\n",
    "    original_height, original_width, _ = image.shape\n",
    "    \n",
    "    # 设置新的高度为400像素，根据纵横比计算新的宽度\n",
    "    new_height = 400\n",
    "    new_width = int(original_width * (new_height / original_height))\n",
    "    \n",
    "    # 使用cv2.resize函数调整图像大小\n",
    "    resized_image = cv2.resize(image, (new_width, new_height))\n",
    "    \n",
    "    return resized_image"
   ]
  },
  {
   "cell_type": "code",
   "execution_count": 12,
   "id": "a29b74a4-2a9f-49de-8eb7-deac127587bd",
   "metadata": {
    "ExecutionIndicator": {
     "show": true
    },
    "execution": {
     "iopub.execute_input": "2023-09-12T16:29:00.453173Z",
     "iopub.status.busy": "2023-09-12T16:29:00.452833Z",
     "iopub.status.idle": "2023-09-12T16:29:00.457230Z",
     "shell.execute_reply": "2023-09-12T16:29:00.456654Z",
     "shell.execute_reply.started": "2023-09-12T16:29:00.453154Z"
    },
    "tags": []
   },
   "outputs": [],
   "source": [
    "# 定义输入路径、输出路径和临时路径\n",
    "input_path = '身份证'\n",
    "output_path = 'output'\n",
    "temp_path = 'temp'\n",
    "\n",
    "# 如果输出路径不存在，则创建它\n",
    "if output_path not in os.listdir('./'):\n",
    "    os.mkdir(output_path)\n",
    "    \n",
    "# 如果临时路径不存在，则创建它\n",
    "if temp_path not in os.listdir('./'):\n",
    "    os.mkdir(temp_path)\n",
    "\n",
    "# 获取输入路径中所有以'.jpg'结尾的图像文件名列表\n",
    "img_list = [img_name for img_name in os.listdir(input_path) if '.jpg' in img_name]\n",
    "\n",
    "# 构建完整的图像文件路径列表\n",
    "img_path_list = [os.path.join(input_path, img_name) for img_name in img_list]\n"
   ]
  },
  {
   "cell_type": "code",
   "execution_count": 13,
   "id": "028109be-016e-446e-acea-a00913178a6d",
   "metadata": {
    "ExecutionIndicator": {
     "show": true
    },
    "tags": []
   },
   "outputs": [
    {
     "name": "stderr",
     "output_type": "stream",
     "text": [
      "2023-09-20 23:23:31,320 - modelscope - INFO - Model revision not specified, use the latest revision: v1.0.0\n",
      "Downloading: 100%|██████████| 169/169 [00:00<?, ?B/s] \n",
      "Downloading: 100%|██████████| 168M/168M [00:15<00:00, 11.5MB/s] \n",
      "Downloading: 100%|██████████| 3.16k/3.16k [00:00<00:00, 3.30MB/s]\n",
      "Downloading: 100%|██████████| 47.4k/47.4k [00:00<00:00, 655kB/s]\n",
      "Downloading: 100%|██████████| 134k/134k [00:00<00:00, 1.24MB/s]\n",
      "Downloading: 100%|██████████| 44.5k/44.5k [00:00<00:00, 592kB/s]\n",
      "Downloading: 100%|██████████| 121k/121k [00:00<00:00, 805kB/s] \n",
      "Downloading: 100%|██████████| 28.6k/28.6k [00:00<00:00, 721kB/s]\n",
      "2023-09-20 23:23:49,422 - modelscope - INFO - initiate model from C:\\Users\\dell\\.cache\\modelscope\\hub\\damo\\cv_u2net_salient-detection\n",
      "2023-09-20 23:23:49,423 - modelscope - INFO - initiate model from location C:\\Users\\dell\\.cache\\modelscope\\hub\\damo\\cv_u2net_salient-detection.\n",
      "2023-09-20 23:23:49,432 - modelscope - INFO - initialize model from C:\\Users\\dell\\.cache\\modelscope\\hub\\damo\\cv_u2net_salient-detection\n",
      "2023-09-20 23:23:50,497 - modelscope - WARNING - No preprocessor field found in cfg.\n",
      "2023-09-20 23:23:50,499 - modelscope - WARNING - No val key and type key found in preprocessor domain of configuration.json file.\n",
      "2023-09-20 23:23:50,500 - modelscope - WARNING - Cannot find available config to build preprocessor at mode inference, current config: {'model_dir': 'C:\\\\Users\\\\dell\\\\.cache\\\\modelscope\\\\hub\\\\damo\\\\cv_u2net_salient-detection'}. trying to build by task and model information.\n",
      "2023-09-20 23:23:50,501 - modelscope - WARNING - No preprocessor key ('detection', 'semantic-segmentation') found in PREPROCESSOR_MAP, skip building preprocessor.\n",
      "2023-09-20 23:23:50,509 - modelscope - INFO - cuda is not available, using cpu instead.\n",
      "2023-09-20 23:23:50,958 - modelscope - INFO - Model revision not specified, use the latest revision: v1.1.0\n",
      "Downloading: 100%|██████████| 391k/391k [00:00<00:00, 2.52MB/s]\n",
      "Downloading: 100%|██████████| 233/233 [00:00<00:00, 237kB/s]\n",
      "Downloading: 100%|██████████| 638k/638k [00:00<00:00, 3.07MB/s]\n",
      "Downloading: 100%|██████████| 47.8k/47.8k [00:00<00:00, 611kB/s]\n",
      "Downloading: 100%|██████████| 5.93k/5.93k [00:00<00:00, 6.16MB/s]\n",
      "Downloading: 100%|██████████| 75.7M/75.7M [00:06<00:00, 11.4MB/s]\n",
      "Downloading: 100%|██████████| 6.51k/6.51k [00:00<00:00, 6.67MB/s]\n",
      "Downloading: 100%|██████████| 118k/118k [00:00<00:00, 1.13MB/s]\n",
      "2023-09-20 23:24:00,412 - modelscope - INFO - initiate model from C:\\Users\\dell\\.cache\\modelscope\\hub\\damo\\cv_resnet_facedetection_scrfd10gkps\n",
      "2023-09-20 23:24:00,414 - modelscope - INFO - initiate model from location C:\\Users\\dell\\.cache\\modelscope\\hub\\damo\\cv_resnet_facedetection_scrfd10gkps.\n",
      "2023-09-20 23:24:00,421 - modelscope - INFO - initialize model from C:\\Users\\dell\\.cache\\modelscope\\hub\\damo\\cv_resnet_facedetection_scrfd10gkps\n"
     ]
    },
    {
     "ename": "ImportError",
     "evalue": "FaceDetectionPipeline: ScrfdDetect: cannot import name 'Config' from 'mmcv' (d:\\Dev\\venv310\\lib\\site-packages\\mmcv\\__init__.py)",
     "output_type": "error",
     "traceback": [
      "\u001b[1;31m---------------------------------------------------------------------------\u001b[0m",
      "\u001b[1;31mImportError\u001b[0m                               Traceback (most recent call last)",
      "File \u001b[1;32md:\\Dev\\venv310\\lib\\site-packages\\modelscope\\utils\\registry.py:210\u001b[0m, in \u001b[0;36mbuild_from_cfg\u001b[1;34m(cfg, registry, group_key, default_args)\u001b[0m\n\u001b[0;32m    209\u001b[0m \u001b[39mif\u001b[39;00m \u001b[39mhasattr\u001b[39m(obj_cls, \u001b[39m'\u001b[39m\u001b[39m_instantiate\u001b[39m\u001b[39m'\u001b[39m):\n\u001b[1;32m--> 210\u001b[0m     \u001b[39mreturn\u001b[39;00m obj_cls\u001b[39m.\u001b[39m_instantiate(\u001b[39m*\u001b[39m\u001b[39m*\u001b[39margs)\n\u001b[0;32m    211\u001b[0m \u001b[39melse\u001b[39;00m:\n",
      "File \u001b[1;32md:\\Dev\\venv310\\lib\\site-packages\\modelscope\\models\\base\\base_model.py:66\u001b[0m, in \u001b[0;36mModel._instantiate\u001b[1;34m(cls, **kwargs)\u001b[0m\n\u001b[0;32m     61\u001b[0m \u001b[39m\u001b[39m\u001b[39m\"\"\" Define the instantiation method of a model,default method is by\u001b[39;00m\n\u001b[0;32m     62\u001b[0m \u001b[39m    calling the constructor. Note that in the case of no loading model\u001b[39;00m\n\u001b[0;32m     63\u001b[0m \u001b[39m    process in constructor of a task model, a load_model method is\u001b[39;00m\n\u001b[0;32m     64\u001b[0m \u001b[39m    added, and thus this method is overloaded\u001b[39;00m\n\u001b[0;32m     65\u001b[0m \u001b[39m\"\"\"\u001b[39;00m\n\u001b[1;32m---> 66\u001b[0m \u001b[39mreturn\u001b[39;00m \u001b[39mcls\u001b[39m(\u001b[39m*\u001b[39m\u001b[39m*\u001b[39mkwargs)\n",
      "File \u001b[1;32md:\\Dev\\venv310\\lib\\site-packages\\modelscope\\models\\cv\\face_detection\\scrfd\\scrfd_detect.py:33\u001b[0m, in \u001b[0;36mScrfdDetect.__init__\u001b[1;34m(self, model_dir, *args, **kwargs)\u001b[0m\n\u001b[0;32m     32\u001b[0m \u001b[39msuper\u001b[39m()\u001b[39m.\u001b[39m\u001b[39m__init__\u001b[39m(model_dir, \u001b[39m*\u001b[39margs, \u001b[39m*\u001b[39m\u001b[39m*\u001b[39mkwargs)\n\u001b[1;32m---> 33\u001b[0m \u001b[39mfrom\u001b[39;00m \u001b[39mmmcv\u001b[39;00m \u001b[39mimport\u001b[39;00m Config\n\u001b[0;32m     34\u001b[0m \u001b[39mfrom\u001b[39;00m \u001b[39mmmcv\u001b[39;00m\u001b[39m.\u001b[39;00m\u001b[39mparallel\u001b[39;00m \u001b[39mimport\u001b[39;00m MMDataParallel\n",
      "\u001b[1;31mImportError\u001b[0m: cannot import name 'Config' from 'mmcv' (d:\\Dev\\venv310\\lib\\site-packages\\mmcv\\__init__.py)",
      "\nDuring handling of the above exception, another exception occurred:\n",
      "\u001b[1;31mImportError\u001b[0m                               Traceback (most recent call last)",
      "File \u001b[1;32md:\\Dev\\venv310\\lib\\site-packages\\modelscope\\utils\\registry.py:212\u001b[0m, in \u001b[0;36mbuild_from_cfg\u001b[1;34m(cfg, registry, group_key, default_args)\u001b[0m\n\u001b[0;32m    211\u001b[0m     \u001b[39melse\u001b[39;00m:\n\u001b[1;32m--> 212\u001b[0m         \u001b[39mreturn\u001b[39;00m obj_cls(\u001b[39m*\u001b[39m\u001b[39m*\u001b[39margs)\n\u001b[0;32m    213\u001b[0m \u001b[39mexcept\u001b[39;00m \u001b[39mException\u001b[39;00m \u001b[39mas\u001b[39;00m e:\n\u001b[0;32m    214\u001b[0m     \u001b[39m# Normal TypeError does not print class name.\u001b[39;00m\n",
      "File \u001b[1;32md:\\Dev\\venv310\\lib\\site-packages\\modelscope\\pipelines\\cv\\face_detection_pipeline.py:36\u001b[0m, in \u001b[0;36mFaceDetectionPipeline.__init__\u001b[1;34m(self, model, **kwargs)\u001b[0m\n\u001b[0;32m     30\u001b[0m \u001b[39m\u001b[39m\u001b[39m\"\"\"\u001b[39;00m\n\u001b[0;32m     31\u001b[0m \u001b[39muse `model` to create a face detection pipeline for prediction\u001b[39;00m\n\u001b[0;32m     32\u001b[0m \u001b[39mArgs:\u001b[39;00m\n\u001b[0;32m     33\u001b[0m \u001b[39m    model (`str` or `Model`): model_id or `ScrfdDetect` or `TinyMogDetect` model.\u001b[39;00m\n\u001b[0;32m     34\u001b[0m \u001b[39m    preprocessor(`Preprocessor`, *optional*,  defaults to None): `SCRFDPreprocessor`.\u001b[39;00m\n\u001b[0;32m     35\u001b[0m \u001b[39m\"\"\"\u001b[39;00m\n\u001b[1;32m---> 36\u001b[0m \u001b[39msuper\u001b[39m()\u001b[39m.\u001b[39m\u001b[39m__init__\u001b[39m(model\u001b[39m=\u001b[39mmodel, \u001b[39m*\u001b[39m\u001b[39m*\u001b[39mkwargs)\n\u001b[0;32m     37\u001b[0m config_path \u001b[39m=\u001b[39m osp\u001b[39m.\u001b[39mjoin(model, ModelFile\u001b[39m.\u001b[39mCONFIGURATION)\n",
      "File \u001b[1;32md:\\Dev\\venv310\\lib\\site-packages\\modelscope\\pipelines\\base.py:94\u001b[0m, in \u001b[0;36mPipeline.__init__\u001b[1;34m(self, config_file, model, preprocessor, device, auto_collate, **kwargs)\u001b[0m\n\u001b[0;32m     93\u001b[0m \u001b[39mif\u001b[39;00m \u001b[39mnot\u001b[39;00m \u001b[39misinstance\u001b[39m(model, List):\n\u001b[1;32m---> 94\u001b[0m     \u001b[39mself\u001b[39m\u001b[39m.\u001b[39mmodel \u001b[39m=\u001b[39m \u001b[39mself\u001b[39;49m\u001b[39m.\u001b[39;49minitiate_single_model(model)\n\u001b[0;32m     95\u001b[0m     \u001b[39mself\u001b[39m\u001b[39m.\u001b[39mmodels \u001b[39m=\u001b[39m [\u001b[39mself\u001b[39m\u001b[39m.\u001b[39mmodel]\n",
      "File \u001b[1;32md:\\Dev\\venv310\\lib\\site-packages\\modelscope\\pipelines\\base.py:53\u001b[0m, in \u001b[0;36mPipeline.initiate_single_model\u001b[1;34m(self, model)\u001b[0m\n\u001b[0;32m     52\u001b[0m     \u001b[39m# expecting model has been prefetched to local cache beforehand\u001b[39;00m\n\u001b[1;32m---> 53\u001b[0m     \u001b[39mreturn\u001b[39;00m Model\u001b[39m.\u001b[39;49mfrom_pretrained(\n\u001b[0;32m     54\u001b[0m         model,\n\u001b[0;32m     55\u001b[0m         device\u001b[39m=\u001b[39;49m\u001b[39mself\u001b[39;49m\u001b[39m.\u001b[39;49mdevice_name,\n\u001b[0;32m     56\u001b[0m         model_prefetched\u001b[39m=\u001b[39;49m\u001b[39mTrue\u001b[39;49;00m,\n\u001b[0;32m     57\u001b[0m         invoked_by\u001b[39m=\u001b[39;49mInvoke\u001b[39m.\u001b[39;49mPIPELINE) \u001b[39mif\u001b[39;00m is_model(model) \u001b[39melse\u001b[39;00m model\n\u001b[0;32m     58\u001b[0m \u001b[39melse\u001b[39;00m:\n",
      "File \u001b[1;32md:\\Dev\\venv310\\lib\\site-packages\\modelscope\\models\\base\\base_model.py:144\u001b[0m, in \u001b[0;36mModel.from_pretrained\u001b[1;34m(cls, model_name_or_path, revision, cfg_dict, device, **kwargs)\u001b[0m\n\u001b[0;32m    143\u001b[0m \u001b[39melse\u001b[39;00m:\n\u001b[1;32m--> 144\u001b[0m     model \u001b[39m=\u001b[39m build_model(model_cfg, task_name\u001b[39m=\u001b[39;49mtask_name)\n\u001b[0;32m    146\u001b[0m \u001b[39m# dynamically add pipeline info to model for pipeline inference\u001b[39;00m\n",
      "File \u001b[1;32md:\\Dev\\venv310\\lib\\site-packages\\modelscope\\models\\builder.py:35\u001b[0m, in \u001b[0;36mbuild_model\u001b[1;34m(cfg, task_name, default_args)\u001b[0m\n\u001b[0;32m     34\u001b[0m \u001b[39mtry\u001b[39;00m:\n\u001b[1;32m---> 35\u001b[0m     model \u001b[39m=\u001b[39m build_from_cfg(\n\u001b[0;32m     36\u001b[0m         cfg, MODELS, group_key\u001b[39m=\u001b[39;49mtask_name, default_args\u001b[39m=\u001b[39;49mdefault_args)\n\u001b[0;32m     37\u001b[0m \u001b[39mexcept\u001b[39;00m \u001b[39mKeyError\u001b[39;00m \u001b[39mas\u001b[39;00m e:\n\u001b[0;32m     38\u001b[0m     \u001b[39m# Handle subtask with a backbone model that hasn't been registered\u001b[39;00m\n\u001b[0;32m     39\u001b[0m     \u001b[39m# All the subtask with a parent task should have a task model, otherwise it is not a\u001b[39;00m\n\u001b[0;32m     40\u001b[0m     \u001b[39m# valid subtask\u001b[39;00m\n",
      "File \u001b[1;32md:\\Dev\\venv310\\lib\\site-packages\\modelscope\\utils\\registry.py:215\u001b[0m, in \u001b[0;36mbuild_from_cfg\u001b[1;34m(cfg, registry, group_key, default_args)\u001b[0m\n\u001b[0;32m    213\u001b[0m \u001b[39mexcept\u001b[39;00m \u001b[39mException\u001b[39;00m \u001b[39mas\u001b[39;00m e:\n\u001b[0;32m    214\u001b[0m     \u001b[39m# Normal TypeError does not print class name.\u001b[39;00m\n\u001b[1;32m--> 215\u001b[0m     \u001b[39mraise\u001b[39;00m \u001b[39mtype\u001b[39m(e)(\u001b[39mf\u001b[39m\u001b[39m'\u001b[39m\u001b[39m{\u001b[39;00mobj_cls\u001b[39m.\u001b[39m\u001b[39m__name__\u001b[39m\u001b[39m}\u001b[39;00m\u001b[39m: \u001b[39m\u001b[39m{\u001b[39;00me\u001b[39m}\u001b[39;00m\u001b[39m'\u001b[39m)\n",
      "\u001b[1;31mImportError\u001b[0m: ScrfdDetect: cannot import name 'Config' from 'mmcv' (d:\\Dev\\venv310\\lib\\site-packages\\mmcv\\__init__.py)",
      "\nDuring handling of the above exception, another exception occurred:\n",
      "\u001b[1;31mImportError\u001b[0m                               Traceback (most recent call last)",
      "\u001b[1;32md:\\Dev\\Projects\\身份证截取\\截取身份证.ipynb Cell 13\u001b[0m line \u001b[0;36m3\n\u001b[0;32m      <a href='vscode-notebook-cell:/d%3A/Dev/Projects/%E8%BA%AB%E4%BB%BD%E8%AF%81%E6%88%AA%E5%8F%96/%E6%88%AA%E5%8F%96%E8%BA%AB%E4%BB%BD%E8%AF%81.ipynb#X15sZmlsZQ%3D%3D?line=0'>1</a>\u001b[0m salient_detect \u001b[39m=\u001b[39m pipeline(Tasks\u001b[39m.\u001b[39msemantic_segmentation, model\u001b[39m=\u001b[39m\u001b[39m'\u001b[39m\u001b[39mdamo/cv_u2net_salient-detection\u001b[39m\u001b[39m'\u001b[39m)\n\u001b[1;32m----> <a href='vscode-notebook-cell:/d%3A/Dev/Projects/%E8%BA%AB%E4%BB%BD%E8%AF%81%E6%88%AA%E5%8F%96/%E6%88%AA%E5%8F%96%E8%BA%AB%E4%BB%BD%E8%AF%81.ipynb#X15sZmlsZQ%3D%3D?line=2'>3</a>\u001b[0m face_detection \u001b[39m=\u001b[39m pipeline(task\u001b[39m=\u001b[39;49mTasks\u001b[39m.\u001b[39;49mface_detection, model\u001b[39m=\u001b[39;49m\u001b[39m'\u001b[39;49m\u001b[39mdamo/cv_resnet_facedetection_scrfd10gkps\u001b[39;49m\u001b[39m'\u001b[39;49m)\n",
      "File \u001b[1;32md:\\Dev\\venv310\\lib\\site-packages\\modelscope\\pipelines\\builder.py:140\u001b[0m, in \u001b[0;36mpipeline\u001b[1;34m(task, model, preprocessor, config_file, pipeline_name, framework, device, model_revision, **kwargs)\u001b[0m\n\u001b[0;32m    137\u001b[0m \u001b[39mif\u001b[39;00m preprocessor \u001b[39mis\u001b[39;00m \u001b[39mnot\u001b[39;00m \u001b[39mNone\u001b[39;00m:\n\u001b[0;32m    138\u001b[0m     cfg\u001b[39m.\u001b[39mpreprocessor \u001b[39m=\u001b[39m preprocessor\n\u001b[1;32m--> 140\u001b[0m \u001b[39mreturn\u001b[39;00m build_pipeline(cfg, task_name\u001b[39m=\u001b[39;49mtask)\n",
      "File \u001b[1;32md:\\Dev\\venv310\\lib\\site-packages\\modelscope\\pipelines\\builder.py:56\u001b[0m, in \u001b[0;36mbuild_pipeline\u001b[1;34m(cfg, task_name, default_args)\u001b[0m\n\u001b[0;32m     45\u001b[0m \u001b[39mdef\u001b[39;00m \u001b[39mbuild_pipeline\u001b[39m(cfg: ConfigDict,\n\u001b[0;32m     46\u001b[0m                    task_name: \u001b[39mstr\u001b[39m \u001b[39m=\u001b[39m \u001b[39mNone\u001b[39;00m,\n\u001b[0;32m     47\u001b[0m                    default_args: \u001b[39mdict\u001b[39m \u001b[39m=\u001b[39m \u001b[39mNone\u001b[39;00m):\n\u001b[0;32m     48\u001b[0m \u001b[39m    \u001b[39m\u001b[39m\"\"\" build pipeline given model config dict.\u001b[39;00m\n\u001b[0;32m     49\u001b[0m \n\u001b[0;32m     50\u001b[0m \u001b[39m    Args:\u001b[39;00m\n\u001b[1;32m   (...)\u001b[0m\n\u001b[0;32m     54\u001b[0m \u001b[39m        default_args (dict, optional): Default initialization arguments.\u001b[39;00m\n\u001b[0;32m     55\u001b[0m \u001b[39m    \"\"\"\u001b[39;00m\n\u001b[1;32m---> 56\u001b[0m     \u001b[39mreturn\u001b[39;00m build_from_cfg(\n\u001b[0;32m     57\u001b[0m         cfg, PIPELINES, group_key\u001b[39m=\u001b[39;49mtask_name, default_args\u001b[39m=\u001b[39;49mdefault_args)\n",
      "File \u001b[1;32md:\\Dev\\venv310\\lib\\site-packages\\modelscope\\utils\\registry.py:215\u001b[0m, in \u001b[0;36mbuild_from_cfg\u001b[1;34m(cfg, registry, group_key, default_args)\u001b[0m\n\u001b[0;32m    212\u001b[0m         \u001b[39mreturn\u001b[39;00m obj_cls(\u001b[39m*\u001b[39m\u001b[39m*\u001b[39margs)\n\u001b[0;32m    213\u001b[0m \u001b[39mexcept\u001b[39;00m \u001b[39mException\u001b[39;00m \u001b[39mas\u001b[39;00m e:\n\u001b[0;32m    214\u001b[0m     \u001b[39m# Normal TypeError does not print class name.\u001b[39;00m\n\u001b[1;32m--> 215\u001b[0m     \u001b[39mraise\u001b[39;00m \u001b[39mtype\u001b[39m(e)(\u001b[39mf\u001b[39m\u001b[39m'\u001b[39m\u001b[39m{\u001b[39;00mobj_cls\u001b[39m.\u001b[39m\u001b[39m__name__\u001b[39m\u001b[39m}\u001b[39;00m\u001b[39m: \u001b[39m\u001b[39m{\u001b[39;00me\u001b[39m}\u001b[39;00m\u001b[39m'\u001b[39m)\n",
      "\u001b[1;31mImportError\u001b[0m: FaceDetectionPipeline: ScrfdDetect: cannot import name 'Config' from 'mmcv' (d:\\Dev\\venv310\\lib\\site-packages\\mmcv\\__init__.py)"
     ]
    }
   ],
   "source": [
    "salient_detect = pipeline(Tasks.semantic_segmentation, model='damo/cv_u2net_salient-detection')\n",
    "\n",
    "face_detection = pipeline(task=Tasks.face_detection, model='damo/cv_resnet_facedetection_scrfd10gkps')"
   ]
  },
  {
   "cell_type": "code",
   "execution_count": 32,
   "id": "e359bde4-c785-46c6-9fda-1b5cd18e8f7b",
   "metadata": {
    "ExecutionIndicator": {
     "show": false
    },
    "execution": {
     "iopub.execute_input": "2023-09-12T15:52:53.919974Z",
     "iopub.status.busy": "2023-09-12T15:52:53.919626Z",
     "iopub.status.idle": "2023-09-12T15:57:08.662686Z",
     "shell.execute_reply": "2023-09-12T15:57:08.662157Z",
     "shell.execute_reply.started": "2023-09-12T15:52:53.919957Z"
    },
    "tags": []
   },
   "outputs": [
    {
     "name": "stderr",
     "output_type": "stream",
     "text": [
      "Corrupt JPEG data: 65536 extraneous bytes before marker 0xe0\n"
     ]
    },
    {
     "name": "stdout",
     "output_type": "stream",
     "text": [
      "身份证/pdu0106518126_正面.jpg 翻转180度\n",
      "CPU times: user 20min 45s, sys: 1min 13s, total: 21min 58s\n",
      "Wall time: 4min 14s\n"
     ]
    }
   ],
   "source": [
    "%%time\n",
    "\n",
    "for i, img_path in enumerate(img_path_list):\n",
    "    \n",
    "    try:    \n",
    "        # 读取图片到image对象\n",
    "        image = cv2.imread(img_path)\n",
    "\n",
    "        # 获得掩码图片\n",
    "        mask_image = get_mask(img_path)\n",
    "\n",
    "        # 用掩码图片获得黑底身份证图片\n",
    "        black_bg_image = get_black_bg_image(image, mask_image)\n",
    "\n",
    "        # 获得边框范围\n",
    "        card_range = get_card_range(black_bg_image)\n",
    "\n",
    "        # 判断边框是否为证件（如边框不是证件，则大概率是人像）\n",
    "        if range_is_card(image, card_range):\n",
    "            # 通过边框范围截取白底身份证图片\n",
    "            cropped_image = get_cropped_image(image, card_range)\n",
    "\n",
    "            # 如果高比宽长，就逆时针旋转90度\n",
    "            image = get_rotate_image_90(cropped_image)\n",
    "\n",
    "        else:\n",
    "            pass\n",
    "\n",
    "        cv2.imwrite('temp.jpg', image)\n",
    "\n",
    "        height, width = image.shape[:2]\n",
    "\n",
    "        # 判断是否需要上下180度翻转\n",
    "        if '正面' in img_path:\n",
    "            result = face_detection('temp.jpg')\n",
    "            if result['boxes'][0][0] < width/2:\n",
    "                print(f'{img_path} 翻转180度')\n",
    "                image = get_rotate_image_180(image)\n",
    "        else:\n",
    "            if back_is_upside_down(image):\n",
    "                print(f'{img_path} 翻转180度')\n",
    "                image = get_rotate_image_180(image)\n",
    "\n",
    "        image = get_resized_image(image)\n",
    "\n",
    "        # 输出图片\n",
    "        cv2.imwrite(os.path.join(output_path, 'output_' + img_path.split('/')[-1]), image)\n",
    "\n",
    "    except Exception as e:\n",
    "        print(f'{img_path}:\\n{e}\\n')"
   ]
  },
  {
   "cell_type": "code",
   "execution_count": 33,
   "id": "ec7533c4-9d54-4282-b9ee-c56d5085252f",
   "metadata": {
    "execution": {
     "iopub.execute_input": "2023-09-12T16:00:02.722360Z",
     "iopub.status.busy": "2023-09-12T16:00:02.722005Z",
     "iopub.status.idle": "2023-09-12T16:00:02.872952Z",
     "shell.execute_reply": "2023-09-12T16:00:02.872433Z",
     "shell.execute_reply.started": "2023-09-12T16:00:02.722340Z"
    },
    "tags": []
   },
   "outputs": [
    {
     "data": {
      "text/plain": [
       "'/mnt/workspace/output.zip'"
      ]
     },
     "execution_count": 33,
     "metadata": {},
     "output_type": "execute_result"
    }
   ],
   "source": [
    "shutil.make_archive('output', 'zip', 'output')"
   ]
  },
  {
   "cell_type": "code",
   "execution_count": null,
   "id": "18fac3f9-ef94-49f8-896c-64341f44867a",
   "metadata": {},
   "outputs": [],
   "source": [
    "# img_path = '身份证/pdu5117016282_正面.jpg'\n",
    "\n",
    "# # 读取图片到image对象\n",
    "# image = cv2.imread(img_path)\n",
    "\n",
    "# # 获得掩码图片\n",
    "# mask_image = get_mask(img_path)\n",
    "\n",
    "# # 用掩码图片获得黑底身份证图片\n",
    "# black_bg_image = get_black_bg_image(image, mask_image)\n",
    "\n",
    "# # 获得边框范围\n",
    "# card_range = get_card_range(black_bg_image)\n",
    "\n",
    "# # cv2.imwrite('out.jpg', mask_image)\n",
    "# range_is_card(image, card_range)"
   ]
  },
  {
   "cell_type": "code",
   "execution_count": null,
   "id": "fcd05c73-604f-4333-ae3a-79a2b0e8fa82",
   "metadata": {},
   "outputs": [],
   "source": []
  },
  {
   "cell_type": "code",
   "execution_count": 60,
   "id": "85b80116-c0cd-43b5-8623-659b2ecb32fb",
   "metadata": {
    "ExecutionIndicator": {
     "show": true
    },
    "execution": {
     "iopub.execute_input": "2023-09-12T16:39:37.557209Z",
     "iopub.status.busy": "2023-09-12T16:39:37.556878Z",
     "iopub.status.idle": "2023-09-12T16:39:37.559904Z",
     "shell.execute_reply": "2023-09-12T16:39:37.559393Z",
     "shell.execute_reply.started": "2023-09-12T16:39:37.557192Z"
    },
    "tags": []
   },
   "outputs": [],
   "source": [
    "output_docx_folder = '身份证_docx'"
   ]
  },
  {
   "cell_type": "code",
   "execution_count": 55,
   "id": "78da8b66-a34b-4853-8b34-a0b13ac5622f",
   "metadata": {
    "ExecutionIndicator": {
     "show": false
    },
    "execution": {
     "iopub.execute_input": "2023-09-12T16:29:32.682705Z",
     "iopub.status.busy": "2023-09-12T16:29:32.682343Z",
     "iopub.status.idle": "2023-09-12T16:29:32.686073Z",
     "shell.execute_reply": "2023-09-12T16:29:32.685503Z",
     "shell.execute_reply.started": "2023-09-12T16:29:32.682685Z"
    },
    "tags": []
   },
   "outputs": [],
   "source": [
    "output_list = [img_name for img_name in os.listdir(output_path) if '.jpg' in img_name]\n",
    "output_path_list = [os.path.join(output_path, img_name) for img_name in output_list]"
   ]
  },
  {
   "cell_type": "code",
   "execution_count": 68,
   "id": "4383210b-dbb7-49c6-ab3b-5fbead34d05c",
   "metadata": {
    "ExecutionIndicator": {
     "show": true
    },
    "execution": {
     "iopub.execute_input": "2023-09-12T16:52:38.945339Z",
     "iopub.status.busy": "2023-09-12T16:52:38.944996Z",
     "iopub.status.idle": "2023-09-12T16:52:39.631136Z",
     "shell.execute_reply": "2023-09-12T16:52:39.630594Z",
     "shell.execute_reply.started": "2023-09-12T16:52:38.945320Z"
    },
    "tags": []
   },
   "outputs": [],
   "source": [
    "for output_path in output_path_list:\n",
    "    if '正面' in output_path:\n",
    "        doc = Document()\n",
    "        \n",
    "        doc.add_paragraph()\n",
    "        doc.add_paragraph()\n",
    "        \n",
    "        image_front_p = doc.add_paragraph()\n",
    "        image_front_r = image_front_p.add_run()\n",
    "        image_front_r.add_picture(output_path, width=Inches(5))\n",
    "        image_front_p.alignment = WD_ALIGN_PARAGRAPH.CENTER\n",
    "        \n",
    "        doc.add_paragraph()\n",
    "        doc.add_paragraph()\n",
    "        \n",
    "        image_back_p = doc.add_paragraph()\n",
    "        image_back_r = image_back_p.add_run()\n",
    "        image_back_r.add_picture(output_path.replace('正面', '反面'), width=Inches(5))\n",
    "        image_back_p.alignment = WD_ALIGN_PARAGRAPH.CENTER\n",
    "        \n",
    "        doc_file_name = os.path.join(output_docx_folder, output_path.split('/')[-1].split('_')[1] + '_身份证正反面.docx')\n",
    "        \n",
    "        doc.save(doc_file_name)"
   ]
  },
  {
   "cell_type": "code",
   "execution_count": 69,
   "id": "2b8be501-7d37-48a8-b67e-25e05f871ef1",
   "metadata": {
    "ExecutionIndicator": {
     "show": true
    },
    "execution": {
     "iopub.execute_input": "2023-09-12T16:53:13.310066Z",
     "iopub.status.busy": "2023-09-12T16:53:13.309727Z",
     "iopub.status.idle": "2023-09-12T16:53:13.494338Z",
     "shell.execute_reply": "2023-09-12T16:53:13.492919Z",
     "shell.execute_reply.started": "2023-09-12T16:53:13.310048Z"
    },
    "tags": []
   },
   "outputs": [
    {
     "data": {
      "text/plain": [
       "'/mnt/workspace/身份证_docx.zip'"
      ]
     },
     "execution_count": 69,
     "metadata": {},
     "output_type": "execute_result"
    }
   ],
   "source": [
    "shutil.make_archive(output_docx_folder, 'zip', output_docx_folder)"
   ]
  },
  {
   "cell_type": "code",
   "execution_count": null,
   "id": "37d5a6ba-435a-4c72-a584-c7e841e16dcd",
   "metadata": {},
   "outputs": [],
   "source": []
  }
 ],
 "metadata": {
  "kernelspec": {
   "display_name": "Python 3 (ipykernel)",
   "language": "python",
   "name": "python3"
  },
  "language_info": {
   "codemirror_mode": {
    "name": "ipython",
    "version": 3
   },
   "file_extension": ".py",
   "mimetype": "text/x-python",
   "name": "python",
   "nbconvert_exporter": "python",
   "pygments_lexer": "ipython3",
   "version": "3.10.10"
  }
 },
 "nbformat": 4,
 "nbformat_minor": 5
}
